version https://git-lfs.github.com/spec/v1
oid sha256:35f71d2f6b18adfc16fe1693b1e6e4baf4884b94a943dcd22285056d2e0f04c5
size 294871
